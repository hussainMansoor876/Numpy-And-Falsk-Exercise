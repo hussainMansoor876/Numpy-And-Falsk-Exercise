{
 "cells": [
  {
   "cell_type": "code",
   "execution_count": 1,
   "metadata": {
    "collapsed": true
   },
   "outputs": [
    {
     "data": {
      "text/plain": [
       "array([[ 1.,  0.,  0.],\n       [ 0.,  1.,  0.],\n       [ 0.,  0.,  1.]])"
      ]
     },
     "execution_count": 1,
     "metadata": {},
     "output_type": "execute_result"
    }
   ],
   "source": [
    "import numpy as np\n",
    "i2 = np.eye(3)\n",
    "i2"
   ]
  },
  {
   "cell_type": "code",
   "execution_count": 2,
   "metadata": {},
   "outputs": [],
   "source": [
    "np.savetxt('F:\\My Projects\\Python work\\Flask and numpy works/numpy code\\eye.txt',i2)"
   ]
  },
  {
   "cell_type": "code",
   "execution_count": 3,
   "metadata": {},
   "outputs": [
    {
     "name": "stdout",
     "output_type": "stream",
     "text": [
      "[ 1.  2.  3.  4.  5.] === [ 11.  22.  33.  44.  55.]\n"
     ]
    }
   ],
   "source": [
    "c,v=np.loadtxt('../mansoor.csv',delimiter=',', usecols=(0,3),unpack=True)\n",
    "print(c,\"===\",v)"
   ]
  },
  {
   "cell_type": "code",
   "execution_count": 4,
   "metadata": {},
   "outputs": [
    {
     "name": "stdout",
     "output_type": "stream",
     "text": [
      "VWAP= 3.66666666667\n"
     ]
    }
   ],
   "source": [
    "c,v=np.loadtxt('../mansoor.csv',delimiter=',',usecols=(0,3),unpack=True)\n",
    "vwap=np.average(c,weights=v)\n",
    "print(\"VWAP=\",vwap)"
   ]
  },
  {
   "cell_type": "code",
   "execution_count": 5,
   "metadata": {},
   "outputs": [
    {
     "name": "stdout",
     "output_type": "stream",
     "text": [
      "mean= 3.0\n"
     ]
    }
   ],
   "source": [
    "print(\"mean=\",np.mean(c))"
   ]
  },
  {
   "cell_type": "code",
   "execution_count": 6,
   "metadata": {},
   "outputs": [],
   "source": [
    "c,v=np.loadtxt('../mansoor.csv',delimiter=',',usecols=(0,3),unpack=True)"
   ]
  },
  {
   "cell_type": "code",
   "execution_count": 7,
   "metadata": {},
   "outputs": [
    {
     "name": "stdout",
     "output_type": "stream",
     "text": [
      "highest = 5.0\nlowest = 1.0\n"
     ]
    }
   ],
   "source": [
    "print(\"highest =\", np.max(c))\n",
    "print(\"lowest =\", np.min(c))\n"
   ]
  },
  {
   "cell_type": "code",
   "execution_count": 8,
   "metadata": {},
   "outputs": [
    {
     "data": {
      "text/plain": [
       "array([0, 1, 2, 3, 4])"
      ]
     },
     "execution_count": 8,
     "metadata": {},
     "output_type": "execute_result"
    }
   ],
   "source": [
    "t = np.arange(len(c))\n",
    "t"
   ]
  },
  {
   "cell_type": "code",
   "execution_count": 9,
   "metadata": {},
   "outputs": [
    {
     "name": "stdout",
     "output_type": "stream",
     "text": [
      "twap = 4.0\n"
     ]
    }
   ],
   "source": [
    "print(\"twap =\", np.average(c, weights=t))"
   ]
  },
  {
   "cell_type": "code",
   "execution_count": 10,
   "metadata": {},
   "outputs": [
    {
     "name": "stdout",
     "output_type": "stream",
     "text": [
      "Spread high price 4.0\n"
     ]
    }
   ],
   "source": [
    "print(\"Spread high price\", np.ptp(c))"
   ]
  },
  {
   "cell_type": "code",
   "execution_count": 11,
   "metadata": {},
   "outputs": [
    {
     "name": "stdout",
     "output_type": "stream",
     "text": [
      "Spread high price 44.0\n"
     ]
    }
   ],
   "source": [
    "print(\"Spread high price\", np.ptp(v))"
   ]
  },
  {
   "cell_type": "code",
   "execution_count": 12,
   "metadata": {},
   "outputs": [
    {
     "name": "stdout",
     "output_type": "stream",
     "text": [
      "highest = 5.0\nlowest = 1.0\n3.0\nSpread high price 4.0\n"
     ]
    }
   ],
   "source": [
    "print(\"highest =\", np.max(c))\n",
    "print(\"lowest =\", np.min(c))\n",
    "print((np.max(c) + np.min(c)) /2)\n",
    "print(\"Spread high price\", np.ptp(c))\n",
    "# print(\"Spread low price\", np.ptp(c))"
   ]
  },
  {
   "cell_type": "code",
   "execution_count": 13,
   "metadata": {},
   "outputs": [
    {
     "name": "stdout",
     "output_type": "stream",
     "text": [
      "highest = 55.0\nlowest = 11.0\n33.0\nSpread high price 44.0\n"
     ]
    }
   ],
   "source": [
    "print(\"highest =\", np.max(v))\n",
    "print(\"lowest =\", np.min(v))\n",
    "print((np.max(v) + np.min(v)) /2)\n",
    "print(\"Spread high price\", np.ptp(v))\n",
    "# print(\"Spread low price\", np.ptp(v))"
   ]
  },
  {
   "cell_type": "code",
   "execution_count": 14,
   "metadata": {},
   "outputs": [
    {
     "name": "stdout",
     "output_type": "stream",
     "text": [
      "Middle value 2.0\n"
     ]
    }
   ],
   "source": [
    "N=len(c)\n",
    "print(\"Middle value\",(N-1)/2)"
   ]
  },
  {
   "cell_type": "code",
   "execution_count": 15,
   "metadata": {},
   "outputs": [
    {
     "data": {
      "text/plain": [
       "3.0"
      ]
     },
     "execution_count": 15,
     "metadata": {},
     "output_type": "execute_result"
    }
   ],
   "source": [
    "mid=np.median(c) #The most middle value is called Median.\n",
    "mid"
   ]
  },
  {
   "cell_type": "code",
   "execution_count": 16,
   "metadata": {},
   "outputs": [
    {
     "data": {
      "text/plain": [
       "33.0"
      ]
     },
     "execution_count": 16,
     "metadata": {},
     "output_type": "execute_result"
    }
   ],
   "source": [
    "mid2=np.median(v)\n",
    "mid2"
   ]
  },
  {
   "cell_type": "code",
   "execution_count": 17,
   "metadata": {},
   "outputs": [
    {
     "name": "stdout",
     "output_type": "stream",
     "text": [
      "variance = 242.0\n"
     ]
    }
   ],
   "source": [
    "print(\"variance =\", np.var(v))"
   ]
  },
  {
   "cell_type": "code",
   "execution_count": 19,
   "metadata": {},
   "outputs": [
    {
     "name": "stdout",
     "output_type": "stream",
     "text": [
      "variance from definition = 242.0\n"
     ]
    }
   ],
   "source": [
    "print(\"variance from definition =\", np.mean((v - v.mean())**2))"
   ]
  },
  {
   "cell_type": "code",
   "execution_count": 20,
   "metadata": {},
   "outputs": [],
   "source": [
    "# diff() function that returns an\n",
    "# array that is built up of the difference between two consecutive \n",
    "# array elements"
   ]
  },
  {
   "cell_type": "code",
   "execution_count": 21,
   "metadata": {},
   "outputs": [
    {
     "data": {
      "text/plain": [
       "array([ 1.,  1.,  1.,  1.])"
      ]
     },
     "execution_count": 21,
     "metadata": {},
     "output_type": "execute_result"
    }
   ],
   "source": [
    "difference=np.diff(c)\n",
    "difference"
   ]
  },
  {
   "cell_type": "code",
   "execution_count": 22,
   "metadata": {},
   "outputs": [
    {
     "data": {
      "text/plain": [
       "array([ 1.        ,  0.5       ,  0.33333333,  0.25      ])"
      ]
     },
     "execution_count": 22,
     "metadata": {},
     "output_type": "execute_result"
    }
   ],
   "source": [
    "returns = np.diff(c)/c[:-1]\n",
    "returns"
   ]
  },
  {
   "cell_type": "code",
   "execution_count": 23,
   "metadata": {},
   "outputs": [
    {
     "data": {
      "text/plain": [
       "0.29092166757851962"
      ]
     },
     "execution_count": 43,
     "metadata": {},
     "output_type": "execute_result"
    },
    {
     "data": {
      "text/plain": [
       "0.29092166757851962"
      ]
     },
     "execution_count": 23,
     "metadata": {},
     "output_type": "execute_result"
    }
   ],
   "source": [
    "stand=np.std(returns)\n",
    "stand"
   ]
  },
  {
   "cell_type": "code",
   "execution_count": 24,
   "metadata": {},
   "outputs": [
    {
     "data": {
      "text/plain": [
       "array([ 0.        ,  0.69314718,  1.09861229,  1.38629436,  1.60943791])"
      ]
     },
     "execution_count": 24,
     "metadata": {},
     "output_type": "execute_result"
    }
   ],
   "source": [
    "logreturns = np.log(c)\n",
    "logreturns"
   ]
  },
  {
   "cell_type": "code",
   "execution_count": 25,
   "metadata": {},
   "outputs": [
    {
     "data": {
      "text/plain": [
       "array([ 0.69314718,  0.40546511,  0.28768207,  0.22314355])"
      ]
     },
     "execution_count": 25,
     "metadata": {},
     "output_type": "execute_result"
    }
   ],
   "source": [
    "logreturns = np.diff(np.log(c))\n",
    "logreturns"
   ]
  },
  {
   "cell_type": "code",
   "execution_count": 26,
   "metadata": {},
   "outputs": [
    {
     "name": "stdout",
     "output_type": "stream",
     "text": [
      "Indices with positive returns (array([0, 1, 2], dtype=int64),)\n"
     ]
    }
   ],
   "source": [
    "posretindices = np.where(returns > 0.3) #return the index of right condition\n",
    "print(\"Indices with positive returns\", posretindices)"
   ]
  },
  {
   "cell_type": "code",
   "execution_count": 27,
   "metadata": {},
   "outputs": [
    {
     "name": "stdout",
     "output_type": "stream",
     "text": [
      "[[ 1.  2.]]\n"
     ]
    }
   ],
   "source": [
    "print(np.take(c,np.where(c<3)))"
   ]
  },
  {
   "cell_type": "code",
   "execution_count": 28,
   "metadata": {},
   "outputs": [
    {
     "data": {
      "text/plain": [
       "array([ 1.        ,  0.5       ,  0.33333333])"
      ]
     },
     "execution_count": 28,
     "metadata": {},
     "output_type": "execute_result"
    }
   ],
   "source": [
    "returns[posretindices]"
   ]
  },
  {
   "cell_type": "code",
   "execution_count": 29,
   "metadata": {},
   "outputs": [
    {
     "name": "stdout",
     "output_type": "stream",
     "text": [
      "7.10811183512\n"
     ]
    }
   ],
   "source": [
    "annual_volatility = np.std(logreturns)/np.mean(logreturns)\n",
    "annual_volatility = annual_volatility / np.sqrt(1./252.)\n",
    "print(annual_volatility)"
   ]
  },
  {
   "cell_type": "code",
   "execution_count": 30,
   "metadata": {},
   "outputs": [
    {
     "name": "stdout",
     "output_type": "stream",
     "text": [
      "Monthly volatility 2.05193514072\n"
     ]
    }
   ],
   "source": [
    "print(\"Monthly volatility\", annual_volatility * np.sqrt(1./12.))"
   ]
  },
  {
   "cell_type": "code",
   "execution_count": null,
   "metadata": {},
   "outputs": [],
   "source": []
  }
 ],
 "metadata": {
  "kernelspec": {
   "display_name": "Python 2",
   "language": "python",
   "name": "python2"
  },
  "language_info": {
   "codemirror_mode": {
    "name": "ipython",
    "version": 2
   },
   "file_extension": ".py",
   "mimetype": "text/x-python",
   "name": "python",
   "nbconvert_exporter": "python",
   "pygments_lexer": "ipython2",
   "version": "2.7.6"
  }
 },
 "nbformat": 4,
 "nbformat_minor": 0
}
